{
 "cells": [
  {
   "cell_type": "code",
   "execution_count": 1,
   "id": "9956947c",
   "metadata": {},
   "outputs": [
    {
     "name": "stdout",
     "output_type": "stream",
     "text": [
      "Enter your name: HEMANT RAJENDRA NIKUMBH\n",
      "Hello, HEMANT RAJENDRA NIKUMBH!\n"
     ]
    }
   ],
   "source": [
    "# Program to read a name and print a Hello message \n",
    "# Read name from the user \n",
    "name = input(\"Enter your name: \") \n",
    "# Print a Hello message with the name \n",
    "print(\"Hello, \" + name + \"!\")"
   ]
  },
  {
   "cell_type": "code",
   "execution_count": 3,
   "id": "5986241d",
   "metadata": {},
   "outputs": [
    {
     "name": "stdout",
     "output_type": "stream",
     "text": [
      "Enter the first number: 5\n",
      "Enter the second number: 5\n",
      "Sum: 10.0\n",
      "Difference: 0.0\n",
      "Product: 25.0\n",
      "Division: 1.0\n"
     ]
    }
   ],
   "source": [
    "### b) Read two numbers and print their sum, difference, product, and division: \n",
    " \n",
    "# Program to read two numbers and perform basic arithmetic operations \n",
    "# Read two numbers from the user \n",
    "num1 = float(input(\"Enter the first number: \")) \n",
    "num2 = float(input(\"Enter the second number: \")) \n",
    "# Perform arithmetic operations \n",
    "sum_result = num1 + num2 \n",
    "difference_result = num1 - num2 \n",
    "product_result = num1 * num2 \n",
    "# Avoid division by zero \n",
    "if num2 != 0: \n",
    "    division_result = num1 / num2 \n",
    "else: \n",
    "    division_result = \"Cannot divide by zero.\" \n",
    "# Print the results \n",
    "print(\"Sum:\", sum_result) \n",
    "print(\"Difference:\", difference_result) \n",
    "print(\"Product:\", product_result) \n",
    "print(\"Division:\", division_result) "
   ]
  },
  {
   "cell_type": "code",
   "execution_count": 4,
   "id": "4284895a",
   "metadata": {},
   "outputs": [
    {
     "name": "stdout",
     "output_type": "stream",
     "text": [
      "Enter a string: hemant\n",
      "Word Count: 1\n",
      "Character Count: 6\n"
     ]
    }
   ],
   "source": [
    "### c) Word and character count of a given string:  \n",
    "# Program to count words and characters in a given string \n",
    "# Read a string from the user \n",
    "input_string = input(\"Enter a string: \") \n",
    "# Count words and characters \n",
    "word_count = len(input_string.split()) \n",
    "char_count = len(input_string) \n",
    "# Print the results \n",
    "print(\"Word Count:\", word_count) \n",
    "print(\"Character Count:\", char_count) "
   ]
  },
  {
   "cell_type": "code",
   "execution_count": 11,
   "id": "b1a2828c",
   "metadata": {},
   "outputs": [
    {
     "name": "stdout",
     "output_type": "stream",
     "text": [
      "Enter the shape (rectangle, triangle, or circle): (5,2,4)\n",
      "Invalid shape entered. Please enter rectangle, triangle, or circle.\n"
     ]
    }
   ],
   "source": [
    "### d) Area of a given shape (rectangle, triangle, and circle) reading shape and appropriate \n",
    "# Program to calculate the area of a shape based on user input \n",
    "import math \n",
    "# Read the shape from the user \n",
    "shape = input(\"Enter the shape (rectangle, triangle, or circle): \") \n",
    "# Calculate the area based on the shape \n",
    "if shape == \"rectangle\": \n",
    "    length = float(input(\"Enter the length of the rectangle: \"))\n",
    "    width = float(input(\"Enter the width of the rectangle: \")) \n",
    "    area = length * width \n",
    "elif shape == \"triangle\": \n",
    "    base = float(input(\"Enter the base of the triangle: \")) \n",
    "    height = float(input(\"Enter the height of the triangle: \")) \n",
    "    area = 0.5 * base * height \n",
    "elif shape == \"circle\": \n",
    "    radius = float(input(\"Enter the radius of the circle: \")) \n",
    "    area = math.pi * radius ** 2 \n",
    "else: \n",
    "    print(\"Invalid shape entered. Please enter rectangle, triangle, or circle.\") \n",
    "    area = None \n",
    "# Print the result \n",
    "if area is not None: \n",
    "    print(\"Area of the\", shape.capitalize() + \":\", area) "
   ]
  },
  {
   "cell_type": "code",
   "execution_count": null,
   "id": "95f49ce2",
   "metadata": {},
   "outputs": [],
   "source": []
  },
  {
   "cell_type": "code",
   "execution_count": null,
   "id": "4b5f73ce",
   "metadata": {},
   "outputs": [],
   "source": []
  }
 ],
 "metadata": {
  "kernelspec": {
   "display_name": "Python 3 (ipykernel)",
   "language": "python",
   "name": "python3"
  },
  "language_info": {
   "codemirror_mode": {
    "name": "ipython",
    "version": 3
   },
   "file_extension": ".py",
   "mimetype": "text/x-python",
   "name": "python",
   "nbconvert_exporter": "python",
   "pygments_lexer": "ipython3",
   "version": "3.10.9"
  }
 },
 "nbformat": 4,
 "nbformat_minor": 5
}
